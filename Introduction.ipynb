{
 "cells": [
  {
   "cell_type": "markdown",
   "metadata": {},
   "source": [
    "Introduction"
   ]
  },
  {
   "cell_type": "markdown",
   "metadata": {},
   "source": [
    "Argentina is a country located in South America. It has an area of 2,780,400 km2 and a population of aprox. 45,000,000 inhabitants. As it is show, in comparisson with other countries (especially european) it has a high relation of area vs inhabitants, this means, moving inside this country takes to do many kilometers. In addition, the public transport is much worse than european systems. Also, every day there is a large quantity of people moving to and out of CABA (Ciudad Autónoma de Buenos Aires), argentinian Capital City, because of the necessity to work.\n",
    "This project aims to help argentinian car drivers who usually travel to or out of CABA, preventing them to have an accident. The plan is to analyce data sets of car accidents, and search for patterns using differents machine learning algorithms."
   ]
  }
 ],
 "metadata": {
  "kernelspec": {
   "display_name": "Python",
   "language": "python",
   "name": "conda-env-python-py"
  },
  "language_info": {
   "codemirror_mode": {
    "name": "ipython",
    "version": 3
   },
   "file_extension": ".py",
   "mimetype": "text/x-python",
   "name": "python",
   "nbconvert_exporter": "python",
   "pygments_lexer": "ipython3",
   "version": "3.6.11"
  }
 },
 "nbformat": 4,
 "nbformat_minor": 4
}
