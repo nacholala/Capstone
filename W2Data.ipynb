{
 "cells": [
  {
   "cell_type": "markdown",
   "metadata": {},
   "source": [
    "Data"
   ]
  },
  {
   "cell_type": "markdown",
   "metadata": {},
   "source": [
    "Data of this project was taken from an official argentinian site, that storages data sets of differents topics [1]. Inside this web, there is a data set called \"Intervenciones de Seguridad Vial.csv\" [2] (Road Safety Interventions) recorded by \"Autopistas Urbanas S.A. (AUSA)\". This is the private company owner of Buenos Aires Capital City (CABA) highways. In particuar whenever an accident requires attention from Road Safety, it is recorded in the data set. It has records from January 2014 and its updated on a monthly base, but this project used data until August 2020."
   ]
  },
  {
   "cell_type": "markdown",
   "metadata": {},
   "source": [
    "As overall information, the data set has the followings columns (one row per accident): year, month, day, hour, highway name, direction circulation in the highway, kilometer number, wheter, road status, quantity of people injuried, quantity of people died, type of incident, quantity of motorcycles, cars, buses and trucks involved."
   ]
  },
  {
   "cell_type": "markdown",
   "metadata": {},
   "source": [
    "[1] https://datos.gob.ar/dataset"
   ]
  },
  {
   "cell_type": "markdown",
   "metadata": {},
   "source": [
    "[2] https://data.buenosaires.gob.ar/dataset/seguridad-vial-autopistas-ausa"
   ]
  }
 ],
 "metadata": {
  "kernelspec": {
   "display_name": "Python",
   "language": "python",
   "name": "conda-env-python-py"
  },
  "language_info": {
   "codemirror_mode": {
    "name": "ipython",
    "version": 3
   },
   "file_extension": ".py",
   "mimetype": "text/x-python",
   "name": "python",
   "nbconvert_exporter": "python",
   "pygments_lexer": "ipython3",
   "version": "3.6.11"
  }
 },
 "nbformat": 4,
 "nbformat_minor": 4
}
